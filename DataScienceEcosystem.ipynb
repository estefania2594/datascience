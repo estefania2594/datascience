{
  "metadata": {
    "kernelspec": {
      "name": "python",
      "display_name": "Python (Pyodide)",
      "language": "python"
    },
    "language_info": {
      "codemirror_mode": {
        "name": "python",
        "version": 3
      },
      "file_extension": ".py",
      "mimetype": "text/x-python",
      "name": "python",
      "nbconvert_exporter": "python",
      "pygments_lexer": "ipython3",
      "version": "3.8"
    }
  },
  "nbformat_minor": 5,
  "nbformat": 4,
  "cells": [
    {
      "id": "e1154a2f-af5c-43df-b3e9-ce5b3b7139ef",
      "cell_type": "markdown",
      "source": "# Data Science Tools and Ecosystem",
      "metadata": {}
    },
    {
      "id": "25873277-44b2-4bb0-bba9-f0a14e3d21f9",
      "cell_type": "markdown",
      "source": "In this notebook, Data Science Tools and Ecosystems are summarized",
      "metadata": {}
    },
    {
      "id": "8ddff7fa-3ec9-4678-8e1d-01d6c2ac75c0",
      "cell_type": "markdown",
      "source": "**Objectives:**",
      "metadata": {}
    },
    {
      "id": "a8818fa6-23ba-4879-9e6e-bebdec5b15b8",
      "cell_type": "markdown",
      "source": "Some of the popular languages that Data Scientists use are:",
      "metadata": {}
    },
    {
      "id": "6e71ad59-e75f-46a8-bf17-927ab10721d3",
      "cell_type": "markdown",
      "source": "- Learn how to create Jupyter notebooks.\n- Get familiar with simple tasks on notebooks, such as arithmetic calculations and lists.\n- Learn basic commands, such as markdown.\n- List data science tools and languages.",
      "metadata": {}
    },
    {
      "id": "cd38d43e-e019-4bfe-b206-7b155bd2bb5d",
      "cell_type": "markdown",
      "source": "1. R\n2. Python\n3. Java\n4. SQL\n5. Julia\n",
      "metadata": {}
    },
    {
      "id": "1f3dd20f-05db-4aa3-8edc-0ab0d476005c",
      "cell_type": "markdown",
      "source": "Some of the commonly used libraries used by Data Scientists include:",
      "metadata": {}
    },
    {
      "id": "7e816e7a-a5bd-45ca-a75d-f3ab94c5923d",
      "cell_type": "markdown",
      "source": "1. NumPy\n2. Panda\n3. SciPy",
      "metadata": {}
    },
    {
      "id": "be971159-31ea-4536-bf41-ec5ae4c5f1aa",
      "cell_type": "markdown",
      "source": "|Data Science Tools|\n|------------------|\n|Jupyter Notebook|\n|RStudio|\n|Visual Studio Code|",
      "metadata": {}
    },
    {
      "id": "fa4bdaed-d0f8-475c-af12-f217aeef6cfe",
      "cell_type": "markdown",
      "source": "### Below are a few examples of evaluating arithmetic expressions in Python",
      "metadata": {}
    },
    {
      "id": "1f4f18b9-cf01-44db-8228-7387348644d6",
      "cell_type": "markdown",
      "source": "This a simple arithmetic expression to multiply then add integers",
      "metadata": {}
    },
    {
      "id": "35849444-2b18-4e2d-b054-3aaa540ec47d",
      "cell_type": "code",
      "source": "(3*4)+5",
      "metadata": {
        "trusted": true
      },
      "outputs": [
        {
          "execution_count": 2,
          "output_type": "execute_result",
          "data": {
            "text/plain": "17"
          },
          "metadata": {}
        }
      ],
      "execution_count": 2
    },
    {
      "id": "b532b0f7-3dcc-43f1-ae8f-cc2b79a92aa8",
      "cell_type": "markdown",
      "source": "This will convert 200 minutes to hours by dividing by 60 ",
      "metadata": {}
    },
    {
      "id": "bbe07dcc-eaa5-435c-9b05-0db8fba5653b",
      "cell_type": "code",
      "source": "200/60",
      "metadata": {
        "trusted": true
      },
      "outputs": [
        {
          "execution_count": 4,
          "output_type": "execute_result",
          "data": {
            "text/plain": "3.3333333333333335"
          },
          "metadata": {}
        }
      ],
      "execution_count": 4
    },
    {
      "id": "db47dc1e-28b8-4e34-a120-0297c0cfc7de",
      "cell_type": "markdown",
      "source": "## Author",
      "metadata": {}
    },
    {
      "id": "63f716e8-8bd1-4713-ba78-1eebfa021820",
      "cell_type": "markdown",
      "source": "Estefania",
      "metadata": {}
    },
    {
      "id": "f48f399f-9b4f-4d1c-827c-2f7312cba284",
      "cell_type": "code",
      "source": "",
      "metadata": {
        "trusted": true
      },
      "outputs": [],
      "execution_count": null
    }
  ]
}